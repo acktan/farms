{
 "cells": [
  {
   "cell_type": "code",
   "execution_count": 179,
   "metadata": {},
   "outputs": [
    {
     "ename": "TypeError",
     "evalue": "Parser must be a string or character stream, not Series",
     "output_type": "error",
     "traceback": [
      "\u001b[1;31m---------------------------------------------------------------------------\u001b[0m",
      "\u001b[1;31mTypeError\u001b[0m                                 Traceback (most recent call last)",
      "\u001b[1;32mc:\\Users\\ckunt\\OneDrive\\Documents\\Masters work\\Extra\\farms\\initAnalysis.ipynb Cell 1\u001b[0m in \u001b[0;36m<cell line: 25>\u001b[1;34m()\u001b[0m\n\u001b[0;32m     <a href='vscode-notebook-cell:/c%3A/Users/ckunt/OneDrive/Documents/Masters%20work/Extra/farms/initAnalysis.ipynb#ch0000001?line=22'>23</a>\u001b[0m allBatch[numericalCols] \u001b[39m=\u001b[39m allBatch[numericalCols]\u001b[39m.\u001b[39mapplymap(\u001b[39mlambda\u001b[39;00m x: re\u001b[39m.\u001b[39msub(\u001b[39m\"\u001b[39m\u001b[39m[^0-9]\u001b[39m\u001b[39m\"\u001b[39m, \u001b[39m\"\u001b[39m\u001b[39m\"\u001b[39m, x) \u001b[39mif\u001b[39;00m \u001b[39mtype\u001b[39m(x) \u001b[39m==\u001b[39m \u001b[39mstr\u001b[39m \u001b[39melse\u001b[39;00m x)\n\u001b[0;32m     <a href='vscode-notebook-cell:/c%3A/Users/ckunt/OneDrive/Documents/Masters%20work/Extra/farms/initAnalysis.ipynb#ch0000001?line=23'>24</a>\u001b[0m allBatch[numericalCols] \u001b[39m=\u001b[39m allBatch[numericalCols]\u001b[39m.\u001b[39mapply(pd\u001b[39m.\u001b[39mto_numeric, errors\u001b[39m=\u001b[39m\u001b[39m'\u001b[39m\u001b[39mcoerce\u001b[39m\u001b[39m'\u001b[39m, downcast\u001b[39m=\u001b[39m\u001b[39m'\u001b[39m\u001b[39mfloat\u001b[39m\u001b[39m'\u001b[39m)\n\u001b[1;32m---> <a href='vscode-notebook-cell:/c%3A/Users/ckunt/OneDrive/Documents/Masters%20work/Extra/farms/initAnalysis.ipynb#ch0000001?line=24'>25</a>\u001b[0m allBatch[dateColumns] \u001b[39m=\u001b[39m allBatch[dateColumns]\u001b[39m.\u001b[39;49mapply(\u001b[39mlambda\u001b[39;49;00m x: parser\u001b[39m.\u001b[39;49mparse(x) \u001b[39mif\u001b[39;49;00m x \u001b[39mis\u001b[39;49;00m \u001b[39mnot\u001b[39;49;00m \u001b[39mNone\u001b[39;49;00m \u001b[39melse\u001b[39;49;00m \u001b[39mNone\u001b[39;49;00m)\n",
      "File \u001b[1;32mc:\\Users\\ckunt\\anaconda3\\envs\\tf\\lib\\site-packages\\pandas\\core\\frame.py:8839\u001b[0m, in \u001b[0;36mDataFrame.apply\u001b[1;34m(self, func, axis, raw, result_type, args, **kwargs)\u001b[0m\n\u001b[0;32m   8828\u001b[0m \u001b[39mfrom\u001b[39;00m \u001b[39mpandas\u001b[39;00m\u001b[39m.\u001b[39;00m\u001b[39mcore\u001b[39;00m\u001b[39m.\u001b[39;00m\u001b[39mapply\u001b[39;00m \u001b[39mimport\u001b[39;00m frame_apply\n\u001b[0;32m   8830\u001b[0m op \u001b[39m=\u001b[39m frame_apply(\n\u001b[0;32m   8831\u001b[0m     \u001b[39mself\u001b[39m,\n\u001b[0;32m   8832\u001b[0m     func\u001b[39m=\u001b[39mfunc,\n\u001b[1;32m   (...)\u001b[0m\n\u001b[0;32m   8837\u001b[0m     kwargs\u001b[39m=\u001b[39mkwargs,\n\u001b[0;32m   8838\u001b[0m )\n\u001b[1;32m-> 8839\u001b[0m \u001b[39mreturn\u001b[39;00m op\u001b[39m.\u001b[39;49mapply()\u001b[39m.\u001b[39m__finalize__(\u001b[39mself\u001b[39m, method\u001b[39m=\u001b[39m\u001b[39m\"\u001b[39m\u001b[39mapply\u001b[39m\u001b[39m\"\u001b[39m)\n",
      "File \u001b[1;32mc:\\Users\\ckunt\\anaconda3\\envs\\tf\\lib\\site-packages\\pandas\\core\\apply.py:727\u001b[0m, in \u001b[0;36mFrameApply.apply\u001b[1;34m(self)\u001b[0m\n\u001b[0;32m    724\u001b[0m \u001b[39melif\u001b[39;00m \u001b[39mself\u001b[39m\u001b[39m.\u001b[39mraw:\n\u001b[0;32m    725\u001b[0m     \u001b[39mreturn\u001b[39;00m \u001b[39mself\u001b[39m\u001b[39m.\u001b[39mapply_raw()\n\u001b[1;32m--> 727\u001b[0m \u001b[39mreturn\u001b[39;00m \u001b[39mself\u001b[39;49m\u001b[39m.\u001b[39;49mapply_standard()\n",
      "File \u001b[1;32mc:\\Users\\ckunt\\anaconda3\\envs\\tf\\lib\\site-packages\\pandas\\core\\apply.py:851\u001b[0m, in \u001b[0;36mFrameApply.apply_standard\u001b[1;34m(self)\u001b[0m\n\u001b[0;32m    850\u001b[0m \u001b[39mdef\u001b[39;00m \u001b[39mapply_standard\u001b[39m(\u001b[39mself\u001b[39m):\n\u001b[1;32m--> 851\u001b[0m     results, res_index \u001b[39m=\u001b[39m \u001b[39mself\u001b[39;49m\u001b[39m.\u001b[39;49mapply_series_generator()\n\u001b[0;32m    853\u001b[0m     \u001b[39m# wrap results\u001b[39;00m\n\u001b[0;32m    854\u001b[0m     \u001b[39mreturn\u001b[39;00m \u001b[39mself\u001b[39m\u001b[39m.\u001b[39mwrap_results(results, res_index)\n",
      "File \u001b[1;32mc:\\Users\\ckunt\\anaconda3\\envs\\tf\\lib\\site-packages\\pandas\\core\\apply.py:867\u001b[0m, in \u001b[0;36mFrameApply.apply_series_generator\u001b[1;34m(self)\u001b[0m\n\u001b[0;32m    864\u001b[0m \u001b[39mwith\u001b[39;00m option_context(\u001b[39m\"\u001b[39m\u001b[39mmode.chained_assignment\u001b[39m\u001b[39m\"\u001b[39m, \u001b[39mNone\u001b[39;00m):\n\u001b[0;32m    865\u001b[0m     \u001b[39mfor\u001b[39;00m i, v \u001b[39min\u001b[39;00m \u001b[39menumerate\u001b[39m(series_gen):\n\u001b[0;32m    866\u001b[0m         \u001b[39m# ignore SettingWithCopy here in case the user mutates\u001b[39;00m\n\u001b[1;32m--> 867\u001b[0m         results[i] \u001b[39m=\u001b[39m \u001b[39mself\u001b[39;49m\u001b[39m.\u001b[39;49mf(v)\n\u001b[0;32m    868\u001b[0m         \u001b[39mif\u001b[39;00m \u001b[39misinstance\u001b[39m(results[i], ABCSeries):\n\u001b[0;32m    869\u001b[0m             \u001b[39m# If we have a view on v, we need to make a copy because\u001b[39;00m\n\u001b[0;32m    870\u001b[0m             \u001b[39m#  series_generator will swap out the underlying data\u001b[39;00m\n\u001b[0;32m    871\u001b[0m             results[i] \u001b[39m=\u001b[39m results[i]\u001b[39m.\u001b[39mcopy(deep\u001b[39m=\u001b[39m\u001b[39mFalse\u001b[39;00m)\n",
      "\u001b[1;32mc:\\Users\\ckunt\\OneDrive\\Documents\\Masters work\\Extra\\farms\\initAnalysis.ipynb Cell 1\u001b[0m in \u001b[0;36m<lambda>\u001b[1;34m(x)\u001b[0m\n\u001b[0;32m     <a href='vscode-notebook-cell:/c%3A/Users/ckunt/OneDrive/Documents/Masters%20work/Extra/farms/initAnalysis.ipynb#ch0000001?line=22'>23</a>\u001b[0m allBatch[numericalCols] \u001b[39m=\u001b[39m allBatch[numericalCols]\u001b[39m.\u001b[39mapplymap(\u001b[39mlambda\u001b[39;00m x: re\u001b[39m.\u001b[39msub(\u001b[39m\"\u001b[39m\u001b[39m[^0-9]\u001b[39m\u001b[39m\"\u001b[39m, \u001b[39m\"\u001b[39m\u001b[39m\"\u001b[39m, x) \u001b[39mif\u001b[39;00m \u001b[39mtype\u001b[39m(x) \u001b[39m==\u001b[39m \u001b[39mstr\u001b[39m \u001b[39melse\u001b[39;00m x)\n\u001b[0;32m     <a href='vscode-notebook-cell:/c%3A/Users/ckunt/OneDrive/Documents/Masters%20work/Extra/farms/initAnalysis.ipynb#ch0000001?line=23'>24</a>\u001b[0m allBatch[numericalCols] \u001b[39m=\u001b[39m allBatch[numericalCols]\u001b[39m.\u001b[39mapply(pd\u001b[39m.\u001b[39mto_numeric, errors\u001b[39m=\u001b[39m\u001b[39m'\u001b[39m\u001b[39mcoerce\u001b[39m\u001b[39m'\u001b[39m, downcast\u001b[39m=\u001b[39m\u001b[39m'\u001b[39m\u001b[39mfloat\u001b[39m\u001b[39m'\u001b[39m)\n\u001b[1;32m---> <a href='vscode-notebook-cell:/c%3A/Users/ckunt/OneDrive/Documents/Masters%20work/Extra/farms/initAnalysis.ipynb#ch0000001?line=24'>25</a>\u001b[0m allBatch[dateColumns] \u001b[39m=\u001b[39m allBatch[dateColumns]\u001b[39m.\u001b[39mapply(\u001b[39mlambda\u001b[39;00m x: parser\u001b[39m.\u001b[39;49mparse(x) \u001b[39mif\u001b[39;00m x \u001b[39mis\u001b[39;00m \u001b[39mnot\u001b[39;00m \u001b[39mNone\u001b[39;00m \u001b[39melse\u001b[39;00m \u001b[39mNone\u001b[39;00m)\n",
      "File \u001b[1;32mc:\\Users\\ckunt\\anaconda3\\envs\\tf\\lib\\site-packages\\dateutil\\parser\\_parser.py:1368\u001b[0m, in \u001b[0;36mparse\u001b[1;34m(timestr, parserinfo, **kwargs)\u001b[0m\n\u001b[0;32m   1366\u001b[0m     \u001b[39mreturn\u001b[39;00m parser(parserinfo)\u001b[39m.\u001b[39mparse(timestr, \u001b[39m*\u001b[39m\u001b[39m*\u001b[39mkwargs)\n\u001b[0;32m   1367\u001b[0m \u001b[39melse\u001b[39;00m:\n\u001b[1;32m-> 1368\u001b[0m     \u001b[39mreturn\u001b[39;00m DEFAULTPARSER\u001b[39m.\u001b[39mparse(timestr, \u001b[39m*\u001b[39m\u001b[39m*\u001b[39mkwargs)\n",
      "File \u001b[1;32mc:\\Users\\ckunt\\anaconda3\\envs\\tf\\lib\\site-packages\\dateutil\\parser\\_parser.py:640\u001b[0m, in \u001b[0;36mparser.parse\u001b[1;34m(self, timestr, default, ignoretz, tzinfos, **kwargs)\u001b[0m\n\u001b[0;32m    636\u001b[0m \u001b[39mif\u001b[39;00m default \u001b[39mis\u001b[39;00m \u001b[39mNone\u001b[39;00m:\n\u001b[0;32m    637\u001b[0m     default \u001b[39m=\u001b[39m datetime\u001b[39m.\u001b[39mdatetime\u001b[39m.\u001b[39mnow()\u001b[39m.\u001b[39mreplace(hour\u001b[39m=\u001b[39m\u001b[39m0\u001b[39m, minute\u001b[39m=\u001b[39m\u001b[39m0\u001b[39m,\n\u001b[0;32m    638\u001b[0m                                               second\u001b[39m=\u001b[39m\u001b[39m0\u001b[39m, microsecond\u001b[39m=\u001b[39m\u001b[39m0\u001b[39m)\n\u001b[1;32m--> 640\u001b[0m res, skipped_tokens \u001b[39m=\u001b[39m \u001b[39mself\u001b[39m\u001b[39m.\u001b[39m_parse(timestr, \u001b[39m*\u001b[39m\u001b[39m*\u001b[39mkwargs)\n\u001b[0;32m    642\u001b[0m \u001b[39mif\u001b[39;00m res \u001b[39mis\u001b[39;00m \u001b[39mNone\u001b[39;00m:\n\u001b[0;32m    643\u001b[0m     \u001b[39mraise\u001b[39;00m ParserError(\u001b[39m\"\u001b[39m\u001b[39mUnknown string format: \u001b[39m\u001b[39m%s\u001b[39;00m\u001b[39m\"\u001b[39m, timestr)\n",
      "File \u001b[1;32mc:\\Users\\ckunt\\anaconda3\\envs\\tf\\lib\\site-packages\\dateutil\\parser\\_parser.py:719\u001b[0m, in \u001b[0;36mparser._parse\u001b[1;34m(self, timestr, dayfirst, yearfirst, fuzzy, fuzzy_with_tokens)\u001b[0m\n\u001b[0;32m    716\u001b[0m     yearfirst \u001b[39m=\u001b[39m info\u001b[39m.\u001b[39myearfirst\n\u001b[0;32m    718\u001b[0m res \u001b[39m=\u001b[39m \u001b[39mself\u001b[39m\u001b[39m.\u001b[39m_result()\n\u001b[1;32m--> 719\u001b[0m l \u001b[39m=\u001b[39m _timelex\u001b[39m.\u001b[39;49msplit(timestr)         \u001b[39m# Splits the timestr into tokens\u001b[39;00m\n\u001b[0;32m    721\u001b[0m skipped_idxs \u001b[39m=\u001b[39m []\n\u001b[0;32m    723\u001b[0m \u001b[39m# year/month/day list\u001b[39;00m\n",
      "File \u001b[1;32mc:\\Users\\ckunt\\anaconda3\\envs\\tf\\lib\\site-packages\\dateutil\\parser\\_parser.py:201\u001b[0m, in \u001b[0;36m_timelex.split\u001b[1;34m(cls, s)\u001b[0m\n\u001b[0;32m    199\u001b[0m \u001b[39m@classmethod\u001b[39m\n\u001b[0;32m    200\u001b[0m \u001b[39mdef\u001b[39;00m \u001b[39msplit\u001b[39m(\u001b[39mcls\u001b[39m, s):\n\u001b[1;32m--> 201\u001b[0m     \u001b[39mreturn\u001b[39;00m \u001b[39mlist\u001b[39m(\u001b[39mcls\u001b[39;49m(s))\n",
      "File \u001b[1;32mc:\\Users\\ckunt\\anaconda3\\envs\\tf\\lib\\site-packages\\dateutil\\parser\\_parser.py:69\u001b[0m, in \u001b[0;36m_timelex.__init__\u001b[1;34m(self, instream)\u001b[0m\n\u001b[0;32m     67\u001b[0m     instream \u001b[39m=\u001b[39m StringIO(instream)\n\u001b[0;32m     68\u001b[0m \u001b[39melif\u001b[39;00m \u001b[39mgetattr\u001b[39m(instream, \u001b[39m'\u001b[39m\u001b[39mread\u001b[39m\u001b[39m'\u001b[39m, \u001b[39mNone\u001b[39;00m) \u001b[39mis\u001b[39;00m \u001b[39mNone\u001b[39;00m:\n\u001b[1;32m---> 69\u001b[0m     \u001b[39mraise\u001b[39;00m \u001b[39mTypeError\u001b[39;00m(\u001b[39m'\u001b[39m\u001b[39mParser must be a string or character stream, not \u001b[39m\u001b[39m'\u001b[39m\n\u001b[0;32m     70\u001b[0m                     \u001b[39m'\u001b[39m\u001b[39m{itype}\u001b[39;00m\u001b[39m'\u001b[39m\u001b[39m.\u001b[39mformat(itype\u001b[39m=\u001b[39minstream\u001b[39m.\u001b[39m\u001b[39m__class__\u001b[39m\u001b[39m.\u001b[39m\u001b[39m__name__\u001b[39m))\n\u001b[0;32m     72\u001b[0m \u001b[39mself\u001b[39m\u001b[39m.\u001b[39minstream \u001b[39m=\u001b[39m instream\n\u001b[0;32m     73\u001b[0m \u001b[39mself\u001b[39m\u001b[39m.\u001b[39mcharstack \u001b[39m=\u001b[39m []\n",
      "\u001b[1;31mTypeError\u001b[0m: Parser must be a string or character stream, not Series"
     ]
    }
   ],
   "source": [
    "import pandas as pd\n",
    "import numpy as np\n",
    "import os\n",
    "import matplotlib.pyplot as plt\n",
    "import re\n",
    "from dateutil import parser\n",
    "\n",
    "\n",
    "batchA = pd.read_csv('batchA.csv').T\n",
    "batchB = pd.read_csv('batchB.csv').T\n",
    "batchA['batch'] = '1'\n",
    "batchB['batch'] = '2'\n",
    "allBatch = pd.read_csv('allBatch.csv', index_col=0).T\n",
    "allBatch.reset_index(drop=False, inplace=True)\n",
    "allBatch = allBatch.rename_axis(None, axis=1)\n",
    "allBatch = allBatch.rename(columns={'index': 'Pre-wetting date'})\n",
    "\n",
    "# cleaning columns\n",
    "dateColumns = allBatch.columns[0:2]\n",
    "percentColumns = allBatch.columns[[4, 5, 8, 11, 12]]\n",
    "numericalCols = allBatch.columns[2:18]\n",
    "allBatch[percentColumns] = allBatch[percentColumns].apply(lambda x : x.str.strip('%').astype(float)/100)\n",
    "allBatch[numericalCols] = allBatch[numericalCols].applymap(lambda x: re.sub(\"[^0-9]\", \"\", x) if type(x) == str else x)\n",
    "allBatch[numericalCols] = allBatch[numericalCols].apply(pd.to_numeric, errors='coerce', downcast='float')\n"
   ]
  },
  {
   "cell_type": "code",
   "execution_count": 177,
   "metadata": {},
   "outputs": [
    {
     "name": "stdout",
     "output_type": "stream",
     "text": [
      "<class 'pandas.core.frame.DataFrame'>\n",
      "RangeIndex: 147 entries, 0 to 146\n",
      "Data columns (total 18 columns):\n",
      " #   Column                        Non-Null Count  Dtype  \n",
      "---  ------                        --------------  -----  \n",
      " 0   Pre-wetting date              147 non-null    object \n",
      " 1   Evacuation date (B)           136 non-null    object \n",
      " 2   Wet straw at lay-out (T)      143 non-null    float32\n",
      " 3   Dry straw at lay-out (T)      143 non-null    float32\n",
      " 4   Moisture content PII          142 non-null    float32\n",
      " 5   Conversion rate               142 non-null    float32\n",
      " 6   Fill bag rate                 142 non-null    float32\n",
      " 7   Spawn rate (ml)               142 non-null    float32\n",
      " 8   Compost score                 112 non-null    float32\n",
      " 9   # bags (WHITE)                142 non-null    float32\n",
      " 10  # bags (BROWN)                130 non-null    float32\n",
      " 11  Yield/dry straw (kg) (WHITE)  138 non-null    float32\n",
      " 12  Yield/dry straw (kg) (BROWN)  138 non-null    float32\n",
      " 13  Yield/m2 (WHITE)              134 non-null    float32\n",
      " 14  Yield/m2 (BROWN)              126 non-null    float32\n",
      " 15  Kg/bag (WHITE)                133 non-null    float32\n",
      " 16  Kg/bag (BROWN)                126 non-null    float32\n",
      " 17  Kg/bag (White & Brown)        134 non-null    float32\n",
      "dtypes: float32(16), object(2)\n",
      "memory usage: 11.6+ KB\n"
     ]
    }
   ],
   "source": [
    "allBatch.info()"
   ]
  },
  {
   "cell_type": "code",
   "execution_count": null,
   "metadata": {},
   "outputs": [],
   "source": []
  }
 ],
 "metadata": {
  "kernelspec": {
   "display_name": "Python 3.9.12 64-bit ('tf': conda)",
   "language": "python",
   "name": "python3"
  },
  "language_info": {
   "codemirror_mode": {
    "name": "ipython",
    "version": 3
   },
   "file_extension": ".py",
   "mimetype": "text/x-python",
   "name": "python",
   "nbconvert_exporter": "python",
   "pygments_lexer": "ipython3",
   "version": "3.9.12"
  },
  "orig_nbformat": 4,
  "vscode": {
   "interpreter": {
    "hash": "e7a4fc9e61938f9d0b945869175d5c6980822e997f9c2beaa1391f5f32871236"
   }
  }
 },
 "nbformat": 4,
 "nbformat_minor": 2
}
